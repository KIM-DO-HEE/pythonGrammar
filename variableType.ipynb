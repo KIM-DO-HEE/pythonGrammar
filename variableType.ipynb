{
 "cells": [
  {
   "cell_type": "markdown",
   "id": "7afcff1c",
   "metadata": {},
   "source": [
    "## print 함수"
   ]
  },
  {
   "cell_type": "code",
   "execution_count": 4,
   "id": "62880c57",
   "metadata": {},
   "outputs": [
    {
     "name": "stdout",
     "output_type": "stream",
     "text": [
      "10\n",
      "10 20\n",
      "10 30 20\n"
     ]
    }
   ],
   "source": [
    "a = 10 \n",
    "b = 20\n",
    "\n",
    "print(a)\n",
    "\n",
    "print(a,b)\n",
    "\n",
    "print(a,30,b)"
   ]
  },
  {
   "cell_type": "markdown",
   "id": "6f1a139f",
   "metadata": {},
   "source": [
    "## print 함수 설정\n",
    "* sep : 구분자, 각 출력할 변수 사이에서 구별하는 역할\n",
    "* end : 마지막에 출력할 문자열"
   ]
  },
  {
   "cell_type": "code",
   "execution_count": 15,
   "id": "1cf050b8",
   "metadata": {},
   "outputs": [
    {
     "name": "stdout",
     "output_type": "stream",
     "text": [
      "9*11.45*10*100!"
     ]
    }
   ],
   "source": [
    "print(a,b,10,100, sep='*', end='!')"
   ]
  },
  {
   "cell_type": "code",
   "execution_count": 9,
   "id": "480a5299",
   "metadata": {},
   "outputs": [
    {
     "data": {
      "text/plain": [
       "int"
      ]
     },
     "execution_count": 9,
     "metadata": {},
     "output_type": "execute_result"
    }
   ],
   "source": [
    "#type 함수 : 값의 타입을 알고자할 때 사용\n",
    "\n",
    "a = 10\n",
    "b = 11.45\n",
    "\n",
    "type(a)"
   ]
  },
  {
   "cell_type": "markdown",
   "id": "85824c89",
   "metadata": {},
   "source": [
    "## None\n",
    "*  아무런 값을 갖지않을 때 사용\n",
    "* 일반적으로 변수가 초기값을 갖지 않게 하여 해당 변수를 생성할 때 사용"
   ]
  },
  {
   "cell_type": "code",
   "execution_count": 16,
   "id": "5f385bb5",
   "metadata": {},
   "outputs": [
    {
     "name": "stdout",
     "output_type": "stream",
     "text": [
      "None\n"
     ]
    }
   ],
   "source": [
    "c = None\n",
    "print(c)"
   ]
  },
  {
   "cell_type": "markdown",
   "id": "0fd1c3e0",
   "metadata": {},
   "source": [
    "## expression evaluation & assignment (식평가 & 대입)\n",
    "* 변수의 값이 변경되려면 = 를 사용하여 대입이 발생하는 경우"
   ]
  },
  {
   "cell_type": "code",
   "execution_count": 17,
   "id": "4981602f",
   "metadata": {},
   "outputs": [
    {
     "name": "stdout",
     "output_type": "stream",
     "text": [
      "9\n"
     ]
    }
   ],
   "source": [
    "a = 9\n",
    "a - 3 \n",
    "\n",
    "print(9)"
   ]
  },
  {
   "cell_type": "code",
   "execution_count": null,
   "id": "0a861b46",
   "metadata": {},
   "outputs": [],
   "source": []
  }
 ],
 "metadata": {
  "kernelspec": {
   "display_name": "Python 3 (ipykernel)",
   "language": "python",
   "name": "python3"
  },
  "language_info": {
   "codemirror_mode": {
    "name": "ipython",
    "version": 3
   },
   "file_extension": ".py",
   "mimetype": "text/x-python",
   "name": "python",
   "nbconvert_exporter": "python",
   "pygments_lexer": "ipython3",
   "version": "3.10.9"
  }
 },
 "nbformat": 4,
 "nbformat_minor": 5
}

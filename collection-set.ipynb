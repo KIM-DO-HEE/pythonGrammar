{
 "cells": [
  {
   "cell_type": "markdown",
   "id": "bac46afb",
   "metadata": {},
   "source": [
    "### set\n",
    "* dictionary에서 key만 활용하는 데이터 구조로 이해\n",
    "* 수학에서의 집합과 동일한 개념\n",
    "* 인덱싱이 없다 = 순서가 없다"
   ]
  },
  {
   "cell_type": "code",
   "execution_count": 4,
   "id": "f2b9afce",
   "metadata": {},
   "outputs": [
    {
     "name": "stdout",
     "output_type": "stream",
     "text": [
      "{1, 2, 3, 4, 5}\n"
     ]
    }
   ],
   "source": [
    "a = {1,1,2,3,3,4,1,5}\n",
    "print(a)\n",
    "\n",
    "# int(a[0]) # 딕셔너리는 순서가 없기 때문에 오류 발생"
   ]
  },
  {
   "cell_type": "markdown",
   "id": "243af88f",
   "metadata": {},
   "source": [
    "### set 초기화"
   ]
  },
  {
   "cell_type": "code",
   "execution_count": 8,
   "id": "5c8b131b",
   "metadata": {},
   "outputs": [
    {
     "data": {
      "text/plain": [
       "set"
      ]
     },
     "execution_count": 8,
     "metadata": {},
     "output_type": "execute_result"
    }
   ],
   "source": [
    "a = {} # 딕셔너리 초기화 \n",
    "type(a)\n",
    "\n",
    "a = set()\n",
    "type(a)"
   ]
  },
  {
   "cell_type": "markdown",
   "id": "df0f1315",
   "metadata": {},
   "source": [
    "### set()으로 집합으로 변환"
   ]
  },
  {
   "cell_type": "code",
   "execution_count": 9,
   "id": "686d6311",
   "metadata": {},
   "outputs": [
    {
     "name": "stdout",
     "output_type": "stream",
     "text": [
      "[1, 1, 2, 3, 3, 4, 1, 5]\n",
      "{1, 2, 3, 4, 5}\n"
     ]
    }
   ],
   "source": [
    "a = [1,1,2,3,3,4,1,5]\n",
    "print(a)\n",
    "\n",
    "b = set(a)\n",
    "print(b)"
   ]
  },
  {
   "cell_type": "markdown",
   "id": "6529b3d1",
   "metadata": {},
   "source": [
    "### set operations\n",
    "* 수학 연산과 동일\n",
    "* 교집합,합집합, 차집합 등 지원"
   ]
  },
  {
   "cell_type": "code",
   "execution_count": 17,
   "id": "e2714a03",
   "metadata": {},
   "outputs": [
    {
     "name": "stdout",
     "output_type": "stream",
     "text": [
      "{1, 2, 3, 4}\n",
      "{1, 2, 3}\n",
      "set()\n",
      "True\n"
     ]
    }
   ],
   "source": [
    "a = {1, 2, 3}\n",
    "b = {1,2, 3, 4}\n",
    "\n",
    "print(a.union(b)) # 합집합\n",
    "print(a.intersection(b)) # 교집합\n",
    "print(a.difference(b)) # 차집합\n",
    "\n",
    "# issubset - 부분 집합\n",
    "#print(a.insubset(b)) # b가 {2,3,4} 일 때 오류 발생\n",
    "print(a.issubset(b))"
   ]
  }
 ],
 "metadata": {
  "kernelspec": {
   "display_name": "Python 3 (ipykernel)",
   "language": "python",
   "name": "python3"
  },
  "language_info": {
   "codemirror_mode": {
    "name": "ipython",
    "version": 3
   },
   "file_extension": ".py",
   "mimetype": "text/x-python",
   "name": "python",
   "nbconvert_exporter": "python",
   "pygments_lexer": "ipython3",
   "version": "3.10.9"
  }
 },
 "nbformat": 4,
 "nbformat_minor": 5
}

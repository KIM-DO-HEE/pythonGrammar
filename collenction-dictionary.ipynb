{
 "cells": [
  {
   "cell_type": "markdown",
   "id": "0a4ce4f4",
   "metadata": {},
   "source": [
    "### update()\n",
    "\n",
    "* 두 딕셔너리를 병합함\n",
    "* 겹치는 키가 있다면, 파라미터로 전달되는 키 값이 overwrite된다"
   ]
  },
  {
   "cell_type": "code",
   "execution_count": 1,
   "id": "652ab1b6",
   "metadata": {},
   "outputs": [
    {
     "name": "stdout",
     "output_type": "stream",
     "text": [
      "{'a': 2, 'b': 2, 'c': 3, 'd': 4, 'e': 5}\n"
     ]
    }
   ],
   "source": [
    "a = {'a' : 1, 'b' : 2, 'c' : 3}\n",
    "b = { 'a' : 2, 'd' : 4, 'e':5}\n",
    "\n",
    "a.update(b)\n",
    "\n",
    "print(a)"
   ]
  },
  {
   "cell_type": "markdown",
   "id": "be8a9b2f",
   "metadata": {},
   "source": [
    "### key삭제\n",
    "* del 키워드 사용\n",
    "* pop 사용\n"
   ]
  },
  {
   "cell_type": "code",
   "execution_count": 3,
   "id": "bfaa7367",
   "metadata": {},
   "outputs": [
    {
     "name": "stdout",
     "output_type": "stream",
     "text": [
      "{'a': 1, 'c': 3}\n"
     ]
    }
   ],
   "source": [
    "a = {'a' : 1, 'b' : 2, 'c' : 3}\n",
    "\n",
    "del(a['b'])\n",
    "\n",
    "print(a)"
   ]
  },
  {
   "cell_type": "markdown",
   "id": "d9b307d2",
   "metadata": {},
   "source": [
    "### clear()\n",
    "* 딕셔너리의 모든 값을 초기화"
   ]
  },
  {
   "cell_type": "code",
   "execution_count": 10,
   "id": "524ed5ae",
   "metadata": {},
   "outputs": [
    {
     "name": "stdout",
     "output_type": "stream",
     "text": [
      "{'a': 1, 'c': 3}\n",
      "{}\n"
     ]
    }
   ],
   "source": [
    "print(a)\n",
    "a.clear()\n",
    "print(a)"
   ]
  },
  {
   "cell_type": "markdown",
   "id": "42ac4484",
   "metadata": {},
   "source": [
    "### in \n",
    "* dictionary 내 key 값 존재 확인\n",
    "* O(1) 연산 - 딕셔너리의 크기와 관계없이 항상 연산 속도 일정"
   ]
  },
  {
   "cell_type": "code",
   "execution_count": 13,
   "id": "5e5c80ae",
   "metadata": {},
   "outputs": [
    {
     "name": "stdout",
     "output_type": "stream",
     "text": [
      "{'a': 1, 'b': 2, 'c': 3}\n",
      "True\n",
      "True\n"
     ]
    }
   ],
   "source": [
    "a = { 'a' : 1 , 'b' : 2, 'c' : 3}\n",
    "b = [1,2,3,4,5,6,7,9,0,100]\n",
    "\n",
    "print(a)\n",
    "\n",
    "print(100 in b ) #  리스트가 길 경우 해당 키워드 사용할 경우, 일일히 찾아봐야되기 때문에 성능저하 발생 \n",
    "print('b' in a ) #  키 값으로 찾기 때문에 O(1) 연산"
   ]
  },
  {
   "cell_type": "markdown",
   "id": "ffd02bf0",
   "metadata": {},
   "source": [
    "### value access \n",
    "* dict[key]로 접근, 키가 없는 경우 에러\n",
    "* .get()함수로 접근, 키가 없는 경우 None (프로그램 안죽는다)"
   ]
  },
  {
   "cell_type": "code",
   "execution_count": 16,
   "id": "ad5a2f30",
   "metadata": {},
   "outputs": [
    {
     "data": {
      "text/plain": [
       "2"
      ]
     },
     "execution_count": 16,
     "metadata": {},
     "output_type": "execute_result"
    }
   ],
   "source": [
    "a['b']"
   ]
  },
  {
   "cell_type": "code",
   "execution_count": 18,
   "id": "e2db7450",
   "metadata": {},
   "outputs": [
    {
     "data": {
      "text/plain": [
       "2"
      ]
     },
     "execution_count": 18,
     "metadata": {},
     "output_type": "execute_result"
    }
   ],
   "source": [
    "a.get('b')"
   ]
  },
  {
   "cell_type": "markdown",
   "id": "0e24393b",
   "metadata": {},
   "source": [
    "### 모든 keys , values 찾기\n",
    "* keys() - 키만 반환\n",
    "* values() - 값만 반환\n",
    "* items() =  키,값의 튜플을 반환"
   ]
  },
  {
   "cell_type": "code",
   "execution_count": 19,
   "id": "4ea7a344",
   "metadata": {},
   "outputs": [
    {
     "data": {
      "text/plain": [
       "dict_keys(['a', 'b', 'c'])"
      ]
     },
     "execution_count": 19,
     "metadata": {},
     "output_type": "execute_result"
    }
   ],
   "source": [
    "a.keys()"
   ]
  },
  {
   "cell_type": "code",
   "execution_count": 20,
   "id": "e1bca98f",
   "metadata": {},
   "outputs": [
    {
     "data": {
      "text/plain": [
       "dict_values([1, 2, 3])"
      ]
     },
     "execution_count": 20,
     "metadata": {},
     "output_type": "execute_result"
    }
   ],
   "source": [
    "a.values()"
   ]
  },
  {
   "cell_type": "code",
   "execution_count": 21,
   "id": "376ac458",
   "metadata": {},
   "outputs": [
    {
     "data": {
      "text/plain": [
       "dict_items([('a', 1), ('b', 2), ('c', 3)])"
      ]
     },
     "execution_count": 21,
     "metadata": {},
     "output_type": "execute_result"
    }
   ],
   "source": [
    "a.items()"
   ]
  }
 ],
 "metadata": {
  "kernelspec": {
   "display_name": "Python 3 (ipykernel)",
   "language": "python",
   "name": "python3"
  },
  "language_info": {
   "codemirror_mode": {
    "name": "ipython",
    "version": 3
   },
   "file_extension": ".py",
   "mimetype": "text/x-python",
   "name": "python",
   "nbconvert_exporter": "python",
   "pygments_lexer": "ipython3",
   "version": "3.10.9"
  }
 },
 "nbformat": 4,
 "nbformat_minor": 5
}

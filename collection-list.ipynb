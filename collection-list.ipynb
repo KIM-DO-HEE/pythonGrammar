{
 "cells": [
  {
   "cell_type": "markdown",
   "id": "7be951cd",
   "metadata": {},
   "source": [
    "## 리스트, 튜플\n",
    "* 복수 개의 값을 담을 수 있는 데이터 구조\n",
    "* 리스트 - 생성된 후에 변경 가능\n",
    "* 튜플 - 생성된 후에 변경 불 가능"
   ]
  },
  {
   "cell_type": "markdown",
   "id": "3c721d8f",
   "metadata": {},
   "source": [
    "## 리스트 초기화\n",
    "* []안에 값을 담아서 생성\n",
    "* list() 함수로 생성\n",
    "* str.split()함수로 생성"
   ]
  },
  {
   "cell_type": "code",
   "execution_count": 2,
   "id": "a30aeb1b",
   "metadata": {},
   "outputs": [],
   "source": [
    "a = []\n",
    "print(a)"
   ]
  },
  {
   "cell_type": "code",
   "execution_count": 9,
   "id": "b7ad8143",
   "metadata": {},
   "outputs": [],
   "source": [
    "a =  [1, 2, 3, 5, 10]\n",
    "print(a)"
   ]
  },
  {
   "cell_type": "code",
   "execution_count": 2,
   "id": "199c9476",
   "metadata": {},
   "outputs": [],
   "source": [
    "b = [ 'korea', 'canada', 1, 23, [34,56]]\n",
    "print(b)"
   ]
  },
  {
   "cell_type": "markdown",
   "id": "37167f6d",
   "metadata": {},
   "source": [
    "## list() 함수\n",
    "* 다른 데이터 타입을 리스트로 변환할 때도 사용"
   ]
  },
  {
   "cell_type": "code",
   "execution_count": 6,
   "id": "dbbe80df",
   "metadata": {},
   "outputs": [
    {
     "name": "stdout",
     "output_type": "stream",
     "text": [
      "['h', 'e', 'l', 'l', 'o', ' ', 'w', 'o', 'r', 'l', 'd']\n"
     ]
    }
   ],
   "source": [
    "c = 'hello world'\n",
    "d = list(c)\n",
    "print(d)"
   ]
  },
  {
   "cell_type": "markdown",
   "id": "f5dac8ee",
   "metadata": {},
   "source": [
    "## string split 함수\n",
    "* 구분자로 구분되는 리스트를 반환 (빈번히 사용됨)"
   ]
  },
  {
   "cell_type": "code",
   "execution_count": 2,
   "id": "73f9a107",
   "metadata": {},
   "outputs": [
    {
     "name": "stdout",
     "output_type": "stream",
     "text": [
      "['hello', 'world', 'nice', 'weather']\n"
     ]
    }
   ],
   "source": [
    "e = 'hello world nice weather'\n",
    "f =  e.split()\n",
    "\n",
    "print(f)"
   ]
  },
  {
   "cell_type": "markdown",
   "id": "232b288e",
   "metadata": {},
   "source": [
    "## 리스트 indexing\n",
    "\n",
    "* 문자열의 인덱싱과 동일하게 동작\n",
    "* [] 연산자를 이용하여 항목 얻어오기\n",
    "* [i] - i번째 원소를 반환\n",
    "* i가 음수인 경우도 가능하며 마지막 원소가 -1로 하여 앞으로 갈 때마다 1씩 감소함"
   ]
  },
  {
   "cell_type": "code",
   "execution_count": 5,
   "id": "4532c0b4",
   "metadata": {},
   "outputs": [
    {
     "name": "stdout",
     "output_type": "stream",
     "text": [
      "3\n",
      "6\n",
      "6\n"
     ]
    }
   ],
   "source": [
    "g = [1,2,3,4,5,6]\n",
    "print(g[2])\n",
    "print(g[5])\n",
    "print(g[-1])"
   ]
  },
  {
   "cell_type": "markdown",
   "id": "f69a8ba8",
   "metadata": {},
   "source": [
    "## 리스트 개별 아이템에 접근\n",
    "* 인덱스에접근하여 값을 업데이트 가능"
   ]
  },
  {
   "cell_type": "code",
   "execution_count": 15,
   "id": "c05c56f1",
   "metadata": {},
   "outputs": [
    {
     "name": "stdout",
     "output_type": "stream",
     "text": [
      "h\n",
      "jello world\n"
     ]
    },
    {
     "ename": "NameError",
     "evalue": "name 'b' is not defined",
     "output_type": "error",
     "traceback": [
      "\u001b[1;31m---------------------------------------------------------------------------\u001b[0m",
      "\u001b[1;31mNameError\u001b[0m                                 Traceback (most recent call last)",
      "Cell \u001b[1;32mIn[15], line 11\u001b[0m\n\u001b[0;32m      7\u001b[0m j \u001b[38;5;241m=\u001b[39m \u001b[38;5;124m'\u001b[39m\u001b[38;5;124mj\u001b[39m\u001b[38;5;124m'\u001b[39m \u001b[38;5;241m+\u001b[39m i[\u001b[38;5;241m1\u001b[39m:]\n\u001b[0;32m      9\u001b[0m \u001b[38;5;28mprint\u001b[39m(h\u001b[38;5;241m.\u001b[39mreplace(\u001b[38;5;124m'\u001b[39m\u001b[38;5;124mh\u001b[39m\u001b[38;5;124m'\u001b[39m, \u001b[38;5;124m'\u001b[39m\u001b[38;5;124mj\u001b[39m\u001b[38;5;124m'\u001b[39m))\n\u001b[1;32m---> 11\u001b[0m \u001b[38;5;28mprint\u001b[39m(\u001b[43mb\u001b[49m,c)\n",
      "\u001b[1;31mNameError\u001b[0m: name 'b' is not defined"
     ]
    }
   ],
   "source": [
    "#불변\n",
    "\n",
    "h = 'hello world'\n",
    "print(h[0])\n",
    "\n",
    "i = 'jello world'\n",
    "j = 'j' + i[1:]\n",
    "\n",
    "print(h.replace('h', 'j'))\n",
    "\n",
    "print(b,c)"
   ]
  },
  {
   "cell_type": "code",
   "execution_count": null,
   "id": "699ffb02",
   "metadata": {},
   "outputs": [],
   "source": []
  }
 ],
 "metadata": {
  "kernelspec": {
   "display_name": "Python 3 (ipykernel)",
   "language": "python",
   "name": "python3"
  },
  "language_info": {
   "codemirror_mode": {
    "name": "ipython",
    "version": 3
   },
   "file_extension": ".py",
   "mimetype": "text/x-python",
   "name": "python",
   "nbconvert_exporter": "python",
   "pygments_lexer": "ipython3",
   "version": "3.10.9"
  }
 },
 "nbformat": 4,
 "nbformat_minor": 5
}
